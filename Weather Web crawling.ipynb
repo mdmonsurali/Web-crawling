{
 "cells": [
  {
   "cell_type": "code",
   "execution_count": 32,
   "metadata": {},
   "outputs": [
    {
     "name": "stdout",
     "output_type": "stream",
     "text": [
      "           Period Short_description  temperature\n",
      "0           Today   GradualClearing  High: 67 °F\n",
      "1         Tonight     Mostly Cloudy   Low: 56 °F\n",
      "2          Monday      Partly Sunny  High: 68 °F\n",
      "3     MondayNight     Partly Cloudy   Low: 56 °F\n",
      "4         Tuesday             Sunny  High: 73 °F\n",
      "5    TuesdayNight             Clear   Low: 56 °F\n",
      "6       Wednesday             Sunny  High: 80 °F\n",
      "7  WednesdayNight             Clear   Low: 62 °F\n",
      "8        Thursday             Sunny  High: 84 °F\n"
     ]
    }
   ],
   "source": [
    "import pandas as pd\n",
    "import requests\n",
    "from bs4 import BeautifulSoup\n",
    "\n",
    "\n",
    "### Request \n",
    "page= requests.get('https://forecast.weather.gov/MapClick.php?lat=33.94668000000007&lon=-118.27388499999995#.XpsW4cgzbMU')\n",
    "soup= BeautifulSoup(page.content, 'html.parser')\n",
    "\n",
    "week = soup.find(id='seven-day-forecast-body')\n",
    "items= week.find_all(class_='tombstone-container')\n",
    "#print(items[0])\n",
    "\n",
    "#print(items[0].find(class_='period-name').get_text())\n",
    "#print(items[0].find(class_='short-desc').get_text())\n",
    "#print(items[0].find(class_='temp').get_text())\n",
    "\n",
    "period_names = [item.find(class_= 'period-name').get_text() for item in items]\n",
    "short_description = [item.find(class_= 'short-desc').get_text() for item in items]\n",
    "temperature = [item.find(class_= 'temp').get_text() for item in items]\n",
    "\n",
    "#print(period_names)\n",
    "#print(short_description)\n",
    "#print(temperature)\n",
    "\n",
    "df = pd.DataFrame({\n",
    "    'Period' : period_names,\n",
    "    'Short_description' : short_description,\n",
    "    'temperature' : temperature \n",
    "    \n",
    "})\n",
    "\n",
    "print(df)\n",
    "\n"
   ]
  },
  {
   "cell_type": "code",
   "execution_count": null,
   "metadata": {},
   "outputs": [],
   "source": []
  }
 ],
 "metadata": {
  "kernelspec": {
   "display_name": "Python 3",
   "language": "python",
   "name": "python3"
  },
  "language_info": {
   "codemirror_mode": {
    "name": "ipython",
    "version": 3
   },
   "file_extension": ".py",
   "mimetype": "text/x-python",
   "name": "python",
   "nbconvert_exporter": "python",
   "pygments_lexer": "ipython3",
   "version": "3.6.4"
  }
 },
 "nbformat": 4,
 "nbformat_minor": 2
}
